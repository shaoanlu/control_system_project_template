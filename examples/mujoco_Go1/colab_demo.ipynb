{
 "cells": [
  {
   "cell_type": "markdown",
   "metadata": {},
   "source": [
    "# Installations and Imports"
   ]
  },
  {
   "cell_type": "code",
   "execution_count": null,
   "metadata": {
    "cellView": "form",
    "id": "Xqo7pyX-n72M"
   },
   "outputs": [],
   "source": [
    "!pip install mujoco\n",
    "!pip install mujoco_mjx\n",
    "!pip install brax\n",
    "!pip install playground"
   ]
  },
  {
   "cell_type": "code",
   "execution_count": null,
   "metadata": {
    "id": "T5f4w3Kq2X14"
   },
   "outputs": [],
   "source": [
    "# @title Import packages for plotting and creating graphics\n",
    "import json\n",
    "import itertools\n",
    "import time\n",
    "from typing import Callable, List, NamedTuple, Optional, Union\n",
    "import numpy as np\n",
    "\n",
    "import matplotlib.pyplot as plt\n",
    "\n",
    "# More legible printing from numpy.\n",
    "np.set_printoptions(precision=3, suppress=True, linewidth=100)"
   ]
  },
  {
   "cell_type": "code",
   "execution_count": null,
   "metadata": {
    "id": "ObF1UXrkb0Nd"
   },
   "outputs": [],
   "source": [
    "# @title Import MuJoCo, MJX, and Brax\n",
    "from datetime import datetime\n",
    "import functools\n",
    "import os\n",
    "from typing import Any, Dict, Sequence, Tuple, Union\n",
    "from brax import base\n",
    "from brax import envs\n",
    "from brax import math\n",
    "from brax.base import Base, Motion, Transform\n",
    "from brax.base import State as PipelineState\n",
    "from brax.envs.base import Env, PipelineEnv, State\n",
    "from brax.io import html, mjcf, model\n",
    "from brax.mjx.base import State as MjxState\n",
    "from brax.training.agents.ppo import networks as ppo_networks\n",
    "from brax.training.agents.ppo import train as ppo\n",
    "from brax.training.agents.sac import networks as sac_networks\n",
    "from brax.training.agents.sac import train as sac\n",
    "from etils import epath\n",
    "from flax import struct\n",
    "from flax.training import orbax_utils\n",
    "from IPython.display import HTML, clear_output\n",
    "import jax\n",
    "from jax import numpy as jp\n",
    "from matplotlib import pyplot as plt\n",
    "import mediapy as media\n",
    "from ml_collections import config_dict\n",
    "import mujoco\n",
    "from mujoco import mjx\n",
    "import numpy as np\n",
    "from orbax import checkpoint as ocp"
   ]
  },
  {
   "cell_type": "code",
   "execution_count": null,
   "metadata": {
    "id": "gYm2h7m8w3Nv"
   },
   "outputs": [],
   "source": [
    "# @title Import The Playground\n",
    "\n",
    "from mujoco_playground import wrapper\n",
    "from mujoco_playground import registry"
   ]
  },
  {
   "cell_type": "markdown",
   "metadata": {},
   "source": [
    "# Clone Repository"
   ]
  },
  {
   "cell_type": "code",
   "execution_count": null,
   "metadata": {
    "id": "2ZnNqQU0TQvb"
   },
   "outputs": [],
   "source": [
    "!git clone https://github.com/shaoanlu/control_system_project_template.git"
   ]
  },
  {
   "cell_type": "code",
   "execution_count": null,
   "metadata": {
    "id": "pQXZu_W7ExY6"
   },
   "outputs": [],
   "source": [
    "%cd control_system_project_template"
   ]
  },
  {
   "cell_type": "code",
   "execution_count": null,
   "metadata": {
    "id": "ec1V41OyRtfw"
   },
   "outputs": [],
   "source": [
    "!pwd"
   ]
  },
  {
   "cell_type": "markdown",
   "metadata": {},
   "source": [
    "# Run simulation"
   ]
  },
  {
   "cell_type": "code",
   "execution_count": null,
   "metadata": {
    "id": "OHcHMHikB5KS"
   },
   "outputs": [],
   "source": [
    "import jax\n",
    "import mujoco\n",
    "from tqdm import tqdm\n",
    "\n",
    "from examples.mujoco_Go1.env_wrapper import Go1Env\n",
    "from examples.mujoco_Go1.ppo import PPO, PPOParams, PPOParamsBuilder\n",
    "from src.control.controller_factory import ControllerFactory"
   ]
  },
  {
   "cell_type": "code",
   "execution_count": null,
   "metadata": {
    "id": "M_a4c1bbHSGi"
   },
   "outputs": [],
   "source": [
    "velocity_kick_range = [0.0, 0.0]  # Disable velocity kick.\n",
    "kick_duration_range = [0.05, 0.2]\n",
    "\n",
    "\n",
    "def sample_pert(rng, env, state):\n",
    "    rng, key1, key2 = jax.random.split(rng, 3)\n",
    "    pert_mag = jax.random.uniform(key1, minval=velocity_kick_range[0], maxval=velocity_kick_range[1])\n",
    "    duration_seconds = jax.random.uniform(key2, minval=kick_duration_range[0], maxval=kick_duration_range[1])\n",
    "    duration_steps = jax.numpy.round(duration_seconds / env.dt).astype(jax.numpy.int32)\n",
    "    state.info[\"pert_mag\"] = pert_mag\n",
    "    state.info[\"pert_duration\"] = duration_steps\n",
    "    state.info[\"pert_duration_seconds\"] = duration_seconds\n",
    "    return rng"
   ]
  },
  {
   "cell_type": "markdown",
   "metadata": {},
   "source": [
    "## Instantiate Simulator And Controller"
   ]
  },
  {
   "cell_type": "code",
   "execution_count": null,
   "metadata": {},
   "outputs": [],
   "source": [
    "# instantiate mujoco Env\n",
    "env_name = \"Go1JoystickFlatTerrain\"  # Go1Handstand, Go1JoystickFlatTerrain\n",
    "rng = jax.random.PRNGKey(0)\n",
    "env = Go1Env(env_name=env_name)\n",
    "\n",
    "# Instantiate controller based on env_name\n",
    "factory = ControllerFactory()\n",
    "factory.register_controller(PPOParams, PPO)\n",
    "controller_config = {\"npy_path\": f\"examples/mujoco_Go1/nn_params/{env_name}\"}\n",
    "ppo_params = PPOParamsBuilder().build(config=controller_config)\n",
    "controller = factory.build(params=ppo_params)"
   ]
  },
  {
   "cell_type": "code",
   "execution_count": null,
   "metadata": {},
   "outputs": [],
   "source": [
    "rollout = []\n",
    "modify_scene_fns = []\n",
    "swing_peak = []\n",
    "linvel = []\n",
    "angvel = []\n",
    "\n",
    "command = jax.numpy.array([0, 0, 0.9])\n",
    "state = env.reset(rng)\n",
    "for i in range(env.env_cfg.episode_length):\n",
    "    state.info[\"command\"] = command\n",
    "    try:\n",
    "        if state.info[\"steps_since_last_pert\"] < state.info[\"steps_until_next_pert\"]:\n",
    "            rng = sample_pert(rng, env, state)\n",
    "    except:\n",
    "        pass\n",
    "    act_rng, rng = jax.random.split(rng)\n",
    "    ctrl = controller.control(state.obs[\"state\"])\n",
    "\n",
    "    state = env.step(state, ctrl)\n",
    "    rollout.append(state)\n",
    "    swing_peak.append(state.info[\"swing_peak\"])\n",
    "    linvel.append(env.get_global_linvel(state.data))\n",
    "    angvel.append(env.get_gyro(state.data))"
   ]
  },
  {
   "cell_type": "markdown",
   "metadata": {},
   "source": [
    "# Visualize Simulation Result"
   ]
  },
  {
   "cell_type": "code",
   "execution_count": null,
   "metadata": {
    "id": "IJMbsfITB5SE"
   },
   "outputs": [],
   "source": [
    "# visualization\n",
    "# Plot each foot in a 2x2 grid.\n",
    "swing_peak = jax.numpy.array(swing_peak)\n",
    "names = [\"FR\", \"FL\", \"RR\", \"RL\"]\n",
    "colors = [\"r\", \"g\", \"b\", \"y\"]\n",
    "fig, axs = plt.subplots(2, 2)\n",
    "for i, ax in enumerate(axs.flat):\n",
    "    ax.plot(swing_peak[:, i], color=colors[i])\n",
    "    ax.set_ylim([0, env.env_cfg.reward_config.max_foot_height * 1.25])\n",
    "    ax.axhline(env.env_cfg.reward_config.max_foot_height, color=\"k\", linestyle=\"--\")\n",
    "    ax.set_title(names[i])\n",
    "    ax.set_xlabel(\"time\")\n",
    "    ax.set_ylabel(\"height\")\n",
    "plt.tight_layout()\n",
    "plt.show()\n",
    "\n",
    "linvel_x = jax.numpy.array(linvel)[:, 0]\n",
    "linvel_y = jax.numpy.array(linvel)[:, 1]\n",
    "angvel_yaw = jax.numpy.array(angvel)[:, 2]\n",
    "\n",
    "# Plot whether velocity is within the command range.\n",
    "linvel_x = jax.numpy.convolve(linvel_x, jax.numpy.ones(10) / 10, mode=\"same\")\n",
    "linvel_y = jax.numpy.convolve(linvel_y, jax.numpy.ones(10) / 10, mode=\"same\")\n",
    "angvel_yaw = jax.numpy.convolve(angvel_yaw, jax.numpy.ones(10) / 10, mode=\"same\")\n",
    "\n",
    "fig, axes = plt.subplots(3, 1, figsize=(10, 10))\n",
    "axes[0].plot(linvel_x)\n",
    "axes[1].plot(linvel_y)\n",
    "axes[2].plot(angvel_yaw)\n",
    "\n",
    "axes[0].set_ylim(-env.env_cfg.command_config.a[0], env.env_cfg.command_config.a[0])\n",
    "axes[1].set_ylim(-env.env_cfg.command_config.a[1], env.env_cfg.command_config.a[1])\n",
    "axes[2].set_ylim(-env.env_cfg.command_config.a[2], env.env_cfg.command_config.a[2])\n",
    "\n",
    "for i, ax in enumerate(axes):\n",
    "    ax.axhline(state.info[\"command\"][i], color=\"red\", linestyle=\"--\")\n",
    "\n",
    "labels = [\"dx\", \"dy\", \"dyaw\"]\n",
    "for i, ax in enumerate(axes):\n",
    "    ax.set_ylabel(labels[i])"
   ]
  },
  {
   "cell_type": "code",
   "execution_count": null,
   "metadata": {
    "id": "vqL_Zvn5B5Uh"
   },
   "outputs": [],
   "source": []
  }
 ],
 "metadata": {
  "colab": {
   "private_outputs": true,
   "provenance": []
  },
  "kernelspec": {
   "display_name": "Python 3",
   "name": "python3"
  },
  "language_info": {
   "codemirror_mode": {
    "name": "ipython",
    "version": 3
   },
   "file_extension": ".py",
   "mimetype": "text/x-python",
   "name": "python",
   "nbconvert_exporter": "python",
   "pygments_lexer": "ipython3",
   "version": "3.12.3"
  }
 },
 "nbformat": 4,
 "nbformat_minor": 0
}
